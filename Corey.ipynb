{
 "cells": [
  {
   "cell_type": "code",
   "execution_count": 3,
   "id": "0cd12b7b-ee09-4475-b31c-6d2ca3b4e888",
   "metadata": {},
   "outputs": [
    {
     "name": "stdout",
     "output_type": "stream",
     "text": [
      "Requirement already satisfied: requests in c:\\programdata\\anaconda3\\lib\\site-packages (2.28.1)\n",
      "Requirement already satisfied: idna<4,>=2.5 in c:\\programdata\\anaconda3\\lib\\site-packages (from requests) (3.3)\n",
      "Requirement already satisfied: certifi>=2017.4.17 in c:\\programdata\\anaconda3\\lib\\site-packages (from requests) (2022.9.14)\n",
      "Requirement already satisfied: charset-normalizer<3,>=2 in c:\\programdata\\anaconda3\\lib\\site-packages (from requests) (2.0.4)\n",
      "Requirement already satisfied: urllib3<1.27,>=1.21.1 in c:\\programdata\\anaconda3\\lib\\site-packages (from requests) (1.26.11)\n"
     ]
    }
   ],
   "source": [
    "!pip install requests"
   ]
  },
  {
   "cell_type": "code",
   "execution_count": 44,
   "id": "796bc8be-7c84-475c-9148-dbb1d6f8cc4d",
   "metadata": {},
   "outputs": [],
   "source": [
    "import time"
   ]
  },
  {
   "cell_type": "code",
   "execution_count": 149,
   "id": "79de2721-e9e2-42bc-b515-fefab505bd76",
   "metadata": {},
   "outputs": [],
   "source": [
    "from bs4 import BeautifulSoup"
   ]
  },
  {
   "cell_type": "code",
   "execution_count": 150,
   "id": "9ccceae7-368b-4b74-ba20-d9318eac8e6f",
   "metadata": {},
   "outputs": [],
   "source": [
    "import requests\n",
    "import csv"
   ]
  },
  {
   "cell_type": "code",
   "execution_count": 151,
   "id": "cdd670b8-2124-47fc-b2e4-52790514635d",
   "metadata": {
    "collapsed": true,
    "jupyter": {
     "outputs_hidden": true
    },
    "tags": []
   },
   "outputs": [
    {
     "name": "stdout",
     "output_type": "stream",
     "text": [
      "Python Tutorial: Zip Files – Creating and Extracting Zip Archives \n",
      " \n",
      " November 19, 2019 \n",
      " \n",
      " Corey Schafer \n",
      " \n",
      " In this video, we will be learning how to create and extract zip archives. We will start by using the zipfile module, and then we will see how to do this using the shutil module. We will learn how to do this with single files and directories, as well as learning how to use gzip as well. Let’s get started… \n",
      "\n",
      "https://www.youtube.com/watch?v=z0gguhEmWiY\n",
      "\n",
      "Python Data Science Tutorial: Analyzing the 2019 Stack Overflow Developer Survey \n",
      " \n",
      " October 17, 2019 \n",
      " \n",
      " Corey Schafer \n",
      " \n",
      " In this Python Programming video, we will be learning how to download and analyze real-world data from the 2019 Stack Overflow Developer Survey. This is terrific practice for anyone getting into the data science field. We will learn different ways to analyze this data and also some best practices. Let’s get started… \n",
      "\n",
      "https://www.youtube.com/watch?v=z0gguhEmWiY\n",
      "\n",
      "Python Multiprocessing Tutorial: Run Code in Parallel Using the Multiprocessing Module \n",
      " \n",
      " September 21, 2019 \n",
      " \n",
      " Corey Schafer \n",
      " \n",
      " In this Python Programming video, we will be learning how to run code in parallel using the multiprocessing module. We will also look at how to process multiple high-resolution images at the same time using a ProcessPoolExecutor from the concurrent.futures module. Let’s get started… \n",
      "\n",
      "https://www.youtube.com/watch?v=z0gguhEmWiY\n",
      "\n",
      "Python Threading Tutorial: Run Code Concurrently Using the Threading Module \n",
      " \n",
      " September 12, 2019 \n",
      " \n",
      " Corey Schafer \n",
      " \n",
      " In this Python Programming video, we will be learning how to run threads concurrently using the threading module. We will also look at how to download multiple high-resolution images online using a ThreadPoolExecutor from the concurrent.futures module. Let’s get started… \n",
      "\n",
      "https://www.youtube.com/watch?v=z0gguhEmWiY\n",
      "\n",
      "Update (2019-09-03) \n",
      " \n",
      " September 3, 2019 \n",
      " \n",
      " Corey Schafer \n",
      " \n",
      " https://coreyms.com/general/update-2019-09-03 \n",
      " \n",
      " Hey everyone. I wanted to give you an update on my videos. I will be releasing videos on threading and multiprocessing within the next week. Thanks so much for your patience. I currently have a temporary recording studio setup at my Airbnb that will allow me to record and edit the threading/multiprocessing videos. I am going to be moving into my new house in 10 days and once I have my recording studio setup then you can expect much faster video releases. I really appreciate how patient everyone has been while I go through this move, especially those of you who are contributing monthly through YouTube  \n",
      "\n",
      "None\n",
      "\n",
      "Python Quick Tip: The Difference Between “==” and “is” (Equality vs Identity) \n",
      " \n",
      " August 6, 2019 \n",
      " \n",
      " Corey Schafer \n",
      " \n",
      " In this Python Programming Tutorial, we will be learning the difference between using “==” and the “is” keyword when doing comparisons. The difference between these is that “==” checks to see if values are equal, and the “is” keyword checks their identity, which means it’s going to check if the values are identical in terms of being the same object in memory. We’ll learn more in the video. Let’s get started… \n",
      "\n",
      "https://www.youtube.com/watch?v=z0gguhEmWiY\n",
      "\n",
      "Python Tutorial: Calling External Commands Using the Subprocess Module \n",
      " \n",
      " July 24, 2019 \n",
      " \n",
      " Corey Schafer \n",
      " \n",
      " In this Python Programming Tutorial, we will be learning how to run external commands using the subprocess module from the standard library. We will learn how to run commands, capture the output, handle errors, and also how to pipe output into other commands. Let’s get started… \n",
      "\n",
      "https://www.youtube.com/watch?v=z0gguhEmWiY\n",
      "\n",
      "Visual Studio Code (Windows) – Setting up a Python Development Environment and Complete Overview \n",
      " \n",
      " May 1, 2019 \n",
      " \n",
      " Corey Schafer \n",
      " \n",
      " In this Python Programming Tutorial, we will be learning how to set up a Python development environment in VSCode on Windows. VSCode is a very nice free editor for writing Python applications and many developers are now switching over to this editor. In this video, we will learn how to install VSCode, get the Python extension installed, how to change Python interpreters, create virtual environments, format/lint our code, how to use Git within VSCode, how to debug our programs, how unit testing works, and more. We have a lot to cover, so let’s go ahead and get started… \n",
      "\n",
      "https://www.youtube.com/watch?v=z0gguhEmWiY\n",
      "\n",
      "Visual Studio Code (Mac) – Setting up a Python Development Environment and Complete Overview \n",
      " \n",
      " May 1, 2019 \n",
      " \n",
      " Corey Schafer \n",
      " \n",
      " In this Python Programming Tutorial, we will be learning how to set up a Python development environment in VSCode on MacOS. VSCode is a very nice free editor for writing Python applications and many developers are now switching over to this editor. In this video, we will learn how to install VSCode, get the Python extension installed, how to change Python interpreters, create virtual environments, format/lint our code, how to use Git within VSCode, how to debug our programs, how unit testing works, and more. We have a lot to cover, so let’s go ahead and get started… \n",
      "\n",
      "https://www.youtube.com/watch?v=z0gguhEmWiY\n",
      "\n",
      "Clarifying the Issues with Mutable Default Arguments \n",
      " \n",
      " April 24, 2019 \n",
      " \n",
      " Corey Schafer \n",
      " \n",
      " In this Python Programming Tutorial, we will be clarifying the issues with mutable default arguments. We discussed this in my last video titled “5 Common Python Mistakes and How to Fix Them”, but I received many comments from people who were still confused. So we will be doing a deeper dive to explain exactly what is going on here. Let’s get started… \n",
      "\n",
      "https://www.youtube.com/watch?v=z0gguhEmWiY\n",
      "\n"
     ]
    }
   ],
   "source": [
    "r=requests.get('http://coreyms.com','lxml')\n",
    "\n",
    "soup=BeautifulSoup(r.content)\n",
    "\n",
    "articles=soup.find_all('article')\n",
    "\n",
    "csv_file=open('coreyms.csv','w')\n",
    "\n",
    "csv_writer=csv.writer(csv_file)\n",
    "\n",
    "csv_writer.writerow(['title','date','author','header_link','summary','yt_key'])\n",
    "for article in articles:\n",
    "\n",
    "        header=article.find('header',class_='entry-header')\n",
    "\n",
    "        header_link=header.a['href']\n",
    "\n",
    "        title=header.a.text\n",
    "\n",
    "        metadata=header.find('p',class_='entry-meta')\n",
    "\n",
    "        date=metadata.time.text\n",
    "\n",
    "        author=metadata.find('span',class_='entry-author-name').text\n",
    "\n",
    "        summary=article.find('div', class_='entry-content').p.text\n",
    "        \n",
    "        try:\n",
    "\n",
    "                yt_link=article.find('span', class_='embed-youtube').iframe['src']\n",
    "\n",
    "                yt_key=link.split('?')[0].split('/')[4]\n",
    "                print(title,'\\n','\\n',date,'\\n','\\n',author,'\\n','\\n',summary,'\\n')\n",
    "\n",
    "                print('https://www.youtube.com/watch?v='+yt_key)\n",
    "                print()\n",
    "        except:\n",
    "            yt_key=None\n",
    "            \n",
    "            print(title,'\\n','\\n',date,'\\n','\\n',author,'\\n','\\n',header_link,'\\n','\\n',summary,'\\n')\n",
    "\n",
    "            print(yt_key)\n",
    "            print()\n",
    "        csv_writer.writerow([title,date,author,header_link,summary,yt_key])\n",
    "csv_file.close()"
   ]
  },
  {
   "cell_type": "code",
   "execution_count": 159,
   "id": "fe63e7a6-ae3d-4fa3-935e-fd0e83917f24",
   "metadata": {},
   "outputs": [
    {
     "name": "stdout",
     "output_type": "stream",
     "text": [
      "<article class=\"post-1670 post type-post status-publish format-standard has-post-thumbnail category-development category-python tag-gzip tag-shutil tag-zip tag-zipfile entry\" itemscope=\"\" itemtype=\"https://schema.org/CreativeWork\"><header class=\"entry-header\"><h2 class=\"entry-title\" itemprop=\"headline\"><a class=\"entry-title-link\" href=\"https://coreyms.com/development/python/python-tutorial-zip-files-creating-and-extracting-zip-archives\" rel=\"bookmark\">Python Tutorial: Zip Files – Creating and Extracting Zip Archives</a></h2>\n",
      "<p class=\"entry-meta\"><time class=\"entry-time\" datetime=\"2019-11-19T13:02:37-05:00\" itemprop=\"datePublished\">November 19, 2019</time> by <span class=\"entry-author\" itemprop=\"author\" itemscope=\"\" itemtype=\"https://schema.org/Person\"><a class=\"entry-author-link\" href=\"https://coreyms.com/author/coreymschafer\" itemprop=\"url\" rel=\"author\"><span class=\"entry-author-name\" itemprop=\"name\">Corey Schafer</span></a></span> <span class=\"entry-comments-link\"><a href=\"https://coreyms.com/development/python/python-tutorial-zip-files-creating-and-extracting-zip-archives#respond\"><span class=\"dsq-postid\" data-dsqidentifier=\"1670 http://coreyms.com/?p=1670\">Leave a Comment</span></a></span> </p></header><div class=\"entry-content\" itemprop=\"text\">\n",
      "<p>In this video, we will be learning how to create and extract zip archives. We will start by using the zipfile module, and then we will see how to do this using the shutil module. We will learn how to do this with single files and directories, as well as learning how to use gzip as well. Let’s get started…<br/></p>\n",
      "<span class=\"embed-youtube\" style=\"text-align:center; display: block;\"><iframe allowfullscreen=\"true\" class=\"youtube-player\" height=\"360\" sandbox=\"allow-scripts allow-same-origin allow-popups allow-presentation\" src=\"https://www.youtube.com/embed/z0gguhEmWiY?version=3&amp;rel=1&amp;showsearch=0&amp;showinfo=1&amp;iv_load_policy=1&amp;fs=1&amp;hl=en-US&amp;autohide=2&amp;wmode=transparent\" style=\"border:0;\" width=\"640\"></iframe></span>\n",
      "</div><footer class=\"entry-footer\"><p class=\"entry-meta\"><span class=\"entry-categories\">Filed Under: <a href=\"https://coreyms.com/category/development\" rel=\"category tag\">Development</a>, <a href=\"https://coreyms.com/category/development/python\" rel=\"category tag\">Python</a></span> <span class=\"entry-tags\">Tagged With: <a href=\"https://coreyms.com/tag/gzip\" rel=\"tag\">gzip</a>, <a href=\"https://coreyms.com/tag/shutil\" rel=\"tag\">shutil</a>, <a href=\"https://coreyms.com/tag/zip\" rel=\"tag\">zip</a>, <a href=\"https://coreyms.com/tag/zipfile\" rel=\"tag\">zipfile</a></span></p></footer></article>\n"
     ]
    }
   ],
   "source": [
    "for article in articles:\n",
    "\n",
    "        print(article)\n",
    "        break"
   ]
  },
  {
   "cell_type": "code",
   "execution_count": 147,
   "id": "6d13aeea-921b-4595-884e-eaf742fc7a37",
   "metadata": {},
   "outputs": [
    {
     "data": {
      "text/plain": [
       "<_io.TextIOWrapper name='coreyms.csv' mode='w' encoding='cp1252'>"
      ]
     },
     "execution_count": 147,
     "metadata": {},
     "output_type": "execute_result"
    }
   ],
   "source": [
    "csv_file"
   ]
  }
 ],
 "metadata": {
  "kernelspec": {
   "display_name": "Python 3 (ipykernel)",
   "language": "python",
   "name": "python3"
  },
  "language_info": {
   "codemirror_mode": {
    "name": "ipython",
    "version": 3
   },
   "file_extension": ".py",
   "mimetype": "text/x-python",
   "name": "python",
   "nbconvert_exporter": "python",
   "pygments_lexer": "ipython3",
   "version": "3.9.13"
  }
 },
 "nbformat": 4,
 "nbformat_minor": 5
}
