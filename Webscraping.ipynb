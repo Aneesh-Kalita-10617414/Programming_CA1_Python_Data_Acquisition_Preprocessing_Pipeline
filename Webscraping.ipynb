{
 "cells": [
  {
   "cell_type": "markdown",
   "id": "252ff46d-2b6a-4f3e-8dfe-634916417a0d",
   "metadata": {},
   "source": [
    "#### The requests package is installed"
   ]
  },
  {
   "cell_type": "code",
   "execution_count": 1,
   "id": "e896c548-e512-4bae-8ac1-818d9b5135aa",
   "metadata": {},
   "outputs": [
    {
     "name": "stdout",
     "output_type": "stream",
     "text": [
      "Defaulting to user installation because normal site-packages is not writeable\n",
      "Requirement already satisfied: requests in c:\\programdata\\anaconda3\\lib\\site-packages (2.28.1)\n",
      "Requirement already satisfied: idna<4,>=2.5 in c:\\programdata\\anaconda3\\lib\\site-packages (from requests) (3.3)\n",
      "Requirement already satisfied: urllib3<1.27,>=1.21.1 in c:\\programdata\\anaconda3\\lib\\site-packages (from requests) (1.26.11)\n",
      "Requirement already satisfied: certifi>=2017.4.17 in c:\\programdata\\anaconda3\\lib\\site-packages (from requests) (2022.9.14)\n",
      "Requirement already satisfied: charset-normalizer<3,>=2 in c:\\programdata\\anaconda3\\lib\\site-packages (from requests) (2.0.4)\n"
     ]
    }
   ],
   "source": [
    "!pip install requests"
   ]
  },
  {
   "cell_type": "markdown",
   "id": "274cc0c9-4e9a-46a7-87eb-3af21e755460",
   "metadata": {},
   "source": [
    "#### The BeautifulSoup and Requests library are imported"
   ]
  },
  {
   "cell_type": "code",
   "execution_count": 267,
   "id": "d268ac5e-2f8e-4f90-b6ff-bc80164901a6",
   "metadata": {},
   "outputs": [],
   "source": [
    "from bs4 import BeautifulSoup\n",
    "import requests\n",
    "import time\n",
    "from time import sleep\n",
    "import pandas as pd\n",
    "import numpy as np\n",
    "pd.options.display.max_columns=None"
   ]
  },
  {
   "cell_type": "markdown",
   "id": "82799669-cb6d-452d-9691-94574eaf8056",
   "metadata": {
    "tags": []
   },
   "source": [
    "collection=dread_guitars.find_all('div', class_=\"fx-product-list-entry\")\n",
    "type(collection)"
   ]
  },
  {
   "cell_type": "code",
   "execution_count": 264,
   "id": "7e33cc0c-aa08-498a-b81b-105d6ce72503",
   "metadata": {},
   "outputs": [],
   "source": [
    "url_list=[]\n",
    "\n",
    "def get_url():\n",
    "    \n",
    "    global base_url\n",
    "    \n",
    "    base_url = 'https://www.thomann.de/gb/dreadnought_guitars.html?ls=50&pg=1&gk=GIWEDR&cme=false'\n",
    "    \n",
    "    for i in range(2,3):\n",
    "            url_split=base_url.split('pg=')\n",
    "            url_part2 =url_split[1]\n",
    "            url_next_page=url_split[0] + 'pg=' + url_part2.replace('1',str(i))\n",
    "            \n",
    "            url_list.append(url_next_page)\n",
    "            \n",
    "    url_list.insert(0,base_url) \n",
    "    \n",
    "    for i in url_list:\n",
    "        print(i)"
   ]
  },
  {
   "cell_type": "code",
   "execution_count": 265,
   "id": "2a41f0bb-a5ff-4c63-a576-0eddf4fb1e39",
   "metadata": {},
   "outputs": [],
   "source": [
    "def get_guitar_details():\n",
    "    \n",
    "    global Guitar_Feature_Type_list\n",
    "    global Guitar_Feature_Name_list\n",
    "    global soup\n",
    "    global soup2\n",
    "    global guitar_details\n",
    "    \n",
    "    \n",
    "    get_url()\n",
    "    \n",
    "    guitar_details=[]\n",
    "    \n",
    "    \n",
    "    \n",
    "    for i in url_list:\n",
    "        \n",
    "        result=requests.get(i, timeout=5, headers={'Connection':'close'})\n",
    "\n",
    "        print('Response Status Code:  ' + str(result.status_code))\n",
    "\n",
    "        src=result.text\n",
    "        \n",
    "        result.close()\n",
    "\n",
    "        soup= BeautifulSoup(src,'lxml') \n",
    "\n",
    "        dread_guitars=soup.find('div',class_ = \"js-search\")\n",
    "\n",
    "        collection=dread_guitars.find_all('div', class_=\"fx-product-list-entry\")\n",
    "\n",
    "        \n",
    "\n",
    "\n",
    "        for guitar in collection:\n",
    "\n",
    "                Product=guitar.find('a', class_='product__content')\n",
    "\n",
    "                Manufacturer=Product.find('span', class_='title__manufacturer').text\n",
    "                \n",
    "                Model=Product.find('span', class_='title__name').text\n",
    "                \n",
    "                Price_unclean=Product.find('div', class_= 'product__price').text\n",
    "\n",
    "                if Price_unclean is not None:\n",
    "                    \n",
    "                    Price_unclean.strip()\n",
    "\n",
    "                    Price=Price_unclean.strip().lstrip('£')\n",
    "                \n",
    "                else:\n",
    "                    \n",
    "                    Price= None\n",
    "                \n",
    "\n",
    "                try:\n",
    "                    Product_availability_unclean=Product.find('div',class_='product__availability fx-availability fx-availability--in-stock').text\n",
    "\n",
    "                    Product_availability=Product_availability_unclean.strip()\n",
    "\n",
    "                except:\n",
    "                    Product_availability= None\n",
    "                \n",
    "                \n",
    "                \n",
    "                link_part2=guitar.find('a', class_='product__content')['href']\n",
    "                \n",
    "                if link_part2 is not None:\n",
    "                    \n",
    "                        link_product='https://www.thomann.de/gb/' + link_part2 \n",
    "\n",
    "\n",
    "                        result2=requests.get(link_product,timeout=5, headers={'Connection':'close'})\n",
    "\n",
    "                        src2=result2.text\n",
    "\n",
    "                        result2.close()\n",
    "\n",
    "\n",
    "                        soup2=BeautifulSoup(src2,'lxml')\n",
    "\n",
    "                        for i in soup2.find_all('div',class_='keyfeature keyfeature--hidden fx-collapsible__content'):\n",
    "                            i.decompose()\n",
    "\n",
    "                        for i in soup2.find_all('div',class_='keyfeature keyfeature--toggle-trigger'):\n",
    "                            i.decompose()\n",
    "\n",
    "\n",
    "\n",
    "                        try:\n",
    "\n",
    "                            guitar_info=soup2.find('div', class_='fx-grid__col fx-col--12 fx-col--lg-4')\n",
    "                            guitar_rank=guitar_info.find('span', class_='meta-box__value').text.strip()\n",
    "\n",
    "\n",
    "                        except:\n",
    "\n",
    "                            guitar_rank=None\n",
    "\n",
    "\n",
    "                        parent=soup2.find('div', class_='badges')\n",
    "\n",
    "                        try:\n",
    "\n",
    "                            for i,j in enumerate(parent):\n",
    "                                if i==3:\n",
    "                                    years_warranty=j.text\n",
    "\n",
    "                            index=years_warranty.find('-')\n",
    "                            years_warranty=years_warranty[index-1]\n",
    "\n",
    "                        except:\n",
    "\n",
    "                            years_warranty=None\n",
    "\n",
    "\n",
    "\n",
    "                        key_features=soup2.find('div', class_='keyfeatures')\n",
    "\n",
    "                        try:\n",
    "\n",
    "                                feature_type=key_features.find_all('span', class_='keyfeature__label')\n",
    "                                feature_name=key_features.find_all('span', class_ ='fx-text fx-text--bold fx-text--no-margin')\n",
    "\n",
    "                                Guitar_Feature_Type_list=[]\n",
    "                                Guitar_Feature_Name_list=[]\n",
    "\n",
    "                                for i in feature_type:\n",
    "                                    x=i.text\n",
    "                                    Guitar_Feature_Type_list.append(x)\n",
    "\n",
    "                                for j in feature_name:\n",
    "                                    y=j.text\n",
    "                                    Guitar_Feature_Name_list.append(y)\n",
    "\n",
    "                        except:\n",
    "\n",
    "                                Guitar_Feature_Type_list.append(None)\n",
    "                                Guitar_Feature_Name_list.append(None)\n",
    "\n",
    "\n",
    "                        entry={}\n",
    "\n",
    "                        for i,j in zip(Guitar_Feature_Type_list,Guitar_Feature_Name_list):\n",
    "\n",
    "                                entry['Manufacturer']= Manufacturer\n",
    "                                entry['Model']= Model\n",
    "                                entry['Price']= Price\n",
    "                                entry['Product_availability']= Product_availability\n",
    "                                entry['guitar_rank']= guitar_rank\n",
    "                                entry['Years_Warranty']=years_warranty\n",
    "\n",
    "                                entry[i.upper()]=j\n",
    "\n",
    "                        guitar_details.append(entry)\n",
    "\n",
    "                        time.sleep(3)\n",
    "                \n",
    "                else:\n",
    "                        print('Product Link not available')\n",
    "                        \n",
    "                        entry={}\n",
    "                        entry['Manufacturer']= Manufacturer\n",
    "                        entry['Model']= Model\n",
    "                        entry['Price']= Price\n",
    "                        entry['Product_availability']= Product_availability\n",
    "                        \n",
    "                        guitar_details.append(entry)\n",
    "                        \n",
    "                    "
   ]
  },
  {
   "cell_type": "code",
   "execution_count": 266,
   "id": "4bf7f44a-768f-43c8-9215-5036549d086d",
   "metadata": {},
   "outputs": [
    {
     "name": "stdout",
     "output_type": "stream",
     "text": [
      "https://www.thomann.de/gb/dreadnought_guitars.html?ls=50&pg=1&gk=GIWEDR&cme=false\n",
      "https://www.thomann.de/gb/dreadnought_guitars.html?ls=50&pg=2&gk=GIWEDR&cme=false\n",
      "Response Status Code:  200\n",
      "Response Status Code:  200\n"
     ]
    }
   ],
   "source": [
    "get_guitar_details()"
   ]
  },
  {
   "cell_type": "code",
   "execution_count": 268,
   "id": "840078b2-f032-4651-9c87-3671dedffa09",
   "metadata": {},
   "outputs": [],
   "source": [
    "df3=pd.json_normalize(guitar_details)"
   ]
  },
  {
   "cell_type": "code",
   "execution_count": 269,
   "id": "10b19e4d-3e8f-485b-aad9-37aec637e085",
   "metadata": {},
   "outputs": [
    {
     "data": {
      "text/plain": [
       "(100, 30)"
      ]
     },
     "execution_count": 269,
     "metadata": {},
     "output_type": "execute_result"
    }
   ],
   "source": [
    "df3.shape"
   ]
  },
  {
   "cell_type": "code",
   "execution_count": 274,
   "id": "b15587ca-631f-4fd5-8426-d4ad9cbc4d9e",
   "metadata": {},
   "outputs": [],
   "source": [
    "df=df3.copy()"
   ]
  },
  {
   "cell_type": "code",
   "execution_count": 275,
   "id": "346e04b3-e94c-4e8d-8ff0-b4532bf8d219",
   "metadata": {},
   "outputs": [
    {
     "name": "stdout",
     "output_type": "stream",
     "text": [
      "<class 'pandas.core.frame.DataFrame'>\n",
      "RangeIndex: 100 entries, 0 to 99\n",
      "Data columns (total 30 columns):\n",
      " #   Column                  Non-Null Count  Dtype \n",
      "---  ------                  --------------  ----- \n",
      " 0   Manufacturer            100 non-null    object\n",
      " 1   Model                   100 non-null    object\n",
      " 2   Price                   100 non-null    object\n",
      " 3   Product_availability    81 non-null     object\n",
      " 4   guitar_rank             100 non-null    object\n",
      " 5   Years_Warranty          100 non-null    object\n",
      " 6   AVAILABLE SINCE         100 non-null    object\n",
      " 7   ITEM NUMBER             100 non-null    object\n",
      " 8   SALES UNIT              100 non-null    object\n",
      " 9   TOP                     99 non-null     object\n",
      " 10  BACK AND SIDES          99 non-null     object\n",
      " 11  CUTAWAY                 99 non-null     object\n",
      " 12  FRETBOARD               99 non-null     object\n",
      " 13  NUT WIDTH IN MM         99 non-null     object\n",
      " 14  FRETS                   99 non-null     object\n",
      " 15  PICKUPS                 98 non-null     object\n",
      " 16  COLOUR                  100 non-null    object\n",
      " 17  CASE                    99 non-null     object\n",
      " 18  INCL. GIGBAG            99 non-null     object\n",
      " 19  DESIGN                  1 non-null      object\n",
      " 20  POWER IN WATTS          1 non-null      object\n",
      " 21  REVERB                  1 non-null      object\n",
      " 22  EFFECTS                 1 non-null      object\n",
      " 23  HEADPHONE CONNECTION    1 non-null      object\n",
      " 24  INCL. CASE / GIGBAG     1 non-null      object\n",
      " 25  INCL. CABEL             1 non-null      object\n",
      " 26  INCL. PICKS             1 non-null      object\n",
      " 27  INCL. TUNER             1 non-null      object\n",
      " 28  INCL. STRAP             1 non-null      object\n",
      " 29  INCL. EDUCATIONAL BOOK  1 non-null      object\n",
      "dtypes: object(30)\n",
      "memory usage: 23.6+ KB\n"
     ]
    }
   ],
   "source": [
    "df.info()"
   ]
  },
  {
   "cell_type": "code",
   "execution_count": 276,
   "id": "bc0c4a85-60ac-497b-a303-62fc62ae56ab",
   "metadata": {
    "tags": []
   },
   "outputs": [
    {
     "data": {
      "text/html": [
       "<div>\n",
       "<style scoped>\n",
       "    .dataframe tbody tr th:only-of-type {\n",
       "        vertical-align: middle;\n",
       "    }\n",
       "\n",
       "    .dataframe tbody tr th {\n",
       "        vertical-align: top;\n",
       "    }\n",
       "\n",
       "    .dataframe thead th {\n",
       "        text-align: right;\n",
       "    }\n",
       "</style>\n",
       "<table border=\"1\" class=\"dataframe\">\n",
       "  <thead>\n",
       "    <tr style=\"text-align: right;\">\n",
       "      <th></th>\n",
       "      <th>Manufacturer</th>\n",
       "      <th>Model</th>\n",
       "      <th>Price</th>\n",
       "      <th>Product_availability</th>\n",
       "      <th>guitar_rank</th>\n",
       "      <th>Years_Warranty</th>\n",
       "      <th>AVAILABLE SINCE</th>\n",
       "      <th>ITEM NUMBER</th>\n",
       "      <th>SALES UNIT</th>\n",
       "      <th>TOP</th>\n",
       "      <th>BACK AND SIDES</th>\n",
       "      <th>CUTAWAY</th>\n",
       "      <th>FRETBOARD</th>\n",
       "      <th>NUT WIDTH IN MM</th>\n",
       "      <th>FRETS</th>\n",
       "      <th>PICKUPS</th>\n",
       "      <th>COLOUR</th>\n",
       "      <th>CASE</th>\n",
       "      <th>INCL. GIGBAG</th>\n",
       "      <th>DESIGN</th>\n",
       "      <th>POWER IN WATTS</th>\n",
       "      <th>REVERB</th>\n",
       "      <th>EFFECTS</th>\n",
       "      <th>HEADPHONE CONNECTION</th>\n",
       "      <th>INCL. CASE / GIGBAG</th>\n",
       "      <th>INCL. CABEL</th>\n",
       "      <th>INCL. PICKS</th>\n",
       "      <th>INCL. TUNER</th>\n",
       "      <th>INCL. STRAP</th>\n",
       "      <th>INCL. EDUCATIONAL BOOK</th>\n",
       "    </tr>\n",
       "  </thead>\n",
       "  <tbody>\n",
       "    <tr>\n",
       "      <th>0</th>\n",
       "      <td>Fender</td>\n",
       "      <td>CD-60S Black WN</td>\n",
       "      <td>145</td>\n",
       "      <td>In stock</td>\n",
       "      <td>60</td>\n",
       "      <td>3</td>\n",
       "      <td>January 2019</td>\n",
       "      <td>455910</td>\n",
       "      <td>1 piece(s)</td>\n",
       "      <td>Spruce, Solid</td>\n",
       "      <td>Mahogany</td>\n",
       "      <td>No</td>\n",
       "      <td>Walnut</td>\n",
       "      <td>43,00 mm</td>\n",
       "      <td>20</td>\n",
       "      <td>No</td>\n",
       "      <td>Black</td>\n",
       "      <td>No</td>\n",
       "      <td>No</td>\n",
       "      <td>NaN</td>\n",
       "      <td>NaN</td>\n",
       "      <td>NaN</td>\n",
       "      <td>NaN</td>\n",
       "      <td>NaN</td>\n",
       "      <td>NaN</td>\n",
       "      <td>NaN</td>\n",
       "      <td>NaN</td>\n",
       "      <td>NaN</td>\n",
       "      <td>NaN</td>\n",
       "      <td>NaN</td>\n",
       "    </tr>\n",
       "    <tr>\n",
       "      <th>1</th>\n",
       "      <td>Harley Benton</td>\n",
       "      <td>D-120CE BK</td>\n",
       "      <td>75</td>\n",
       "      <td>In stock</td>\n",
       "      <td>177</td>\n",
       "      <td>3</td>\n",
       "      <td>January 2003</td>\n",
       "      <td>157819</td>\n",
       "      <td>1 piece(s)</td>\n",
       "      <td>Spruce</td>\n",
       "      <td>Sapelli, Mahogany</td>\n",
       "      <td>Yes</td>\n",
       "      <td>Roseacer</td>\n",
       "      <td>42,50 mm</td>\n",
       "      <td>20</td>\n",
       "      <td>Yes</td>\n",
       "      <td>Black</td>\n",
       "      <td>No</td>\n",
       "      <td>No</td>\n",
       "      <td>NaN</td>\n",
       "      <td>NaN</td>\n",
       "      <td>NaN</td>\n",
       "      <td>NaN</td>\n",
       "      <td>NaN</td>\n",
       "      <td>NaN</td>\n",
       "      <td>NaN</td>\n",
       "      <td>NaN</td>\n",
       "      <td>NaN</td>\n",
       "      <td>NaN</td>\n",
       "      <td>NaN</td>\n",
       "    </tr>\n",
       "    <tr>\n",
       "      <th>2</th>\n",
       "      <td>Harley Benton</td>\n",
       "      <td>CLD-60SCE TB</td>\n",
       "      <td>111</td>\n",
       "      <td>In stock</td>\n",
       "      <td>61</td>\n",
       "      <td>3</td>\n",
       "      <td>December 2020</td>\n",
       "      <td>500960</td>\n",
       "      <td>1 piece(s)</td>\n",
       "      <td>Spruce, Solid</td>\n",
       "      <td>Mahogany</td>\n",
       "      <td>Yes</td>\n",
       "      <td>Roseacer</td>\n",
       "      <td>43,00 mm</td>\n",
       "      <td>20</td>\n",
       "      <td>Yes</td>\n",
       "      <td>Blue</td>\n",
       "      <td>No</td>\n",
       "      <td>No</td>\n",
       "      <td>NaN</td>\n",
       "      <td>NaN</td>\n",
       "      <td>NaN</td>\n",
       "      <td>NaN</td>\n",
       "      <td>NaN</td>\n",
       "      <td>NaN</td>\n",
       "      <td>NaN</td>\n",
       "      <td>NaN</td>\n",
       "      <td>NaN</td>\n",
       "      <td>NaN</td>\n",
       "      <td>NaN</td>\n",
       "    </tr>\n",
       "    <tr>\n",
       "      <th>3</th>\n",
       "      <td>Fender</td>\n",
       "      <td>CD-60 NA V3</td>\n",
       "      <td>111</td>\n",
       "      <td>In stock</td>\n",
       "      <td>29</td>\n",
       "      <td>3</td>\n",
       "      <td>September 2006</td>\n",
       "      <td>190655</td>\n",
       "      <td>1 piece(s)</td>\n",
       "      <td>Spruce</td>\n",
       "      <td>Mahogany</td>\n",
       "      <td>No</td>\n",
       "      <td>Walnut</td>\n",
       "      <td>43,00 mm</td>\n",
       "      <td>20</td>\n",
       "      <td>No</td>\n",
       "      <td>Natural</td>\n",
       "      <td>No</td>\n",
       "      <td>No</td>\n",
       "      <td>NaN</td>\n",
       "      <td>NaN</td>\n",
       "      <td>NaN</td>\n",
       "      <td>NaN</td>\n",
       "      <td>NaN</td>\n",
       "      <td>NaN</td>\n",
       "      <td>NaN</td>\n",
       "      <td>NaN</td>\n",
       "      <td>NaN</td>\n",
       "      <td>NaN</td>\n",
       "      <td>NaN</td>\n",
       "    </tr>\n",
       "    <tr>\n",
       "      <th>4</th>\n",
       "      <td>Harley Benton</td>\n",
       "      <td>D-120CE NT Bundle</td>\n",
       "      <td>85</td>\n",
       "      <td>In stock</td>\n",
       "      <td>16</td>\n",
       "      <td>3</td>\n",
       "      <td>June 2017</td>\n",
       "      <td>416052</td>\n",
       "      <td>1 piece(s)</td>\n",
       "      <td>Spruce</td>\n",
       "      <td>Sapelli, Mahogany</td>\n",
       "      <td>Yes</td>\n",
       "      <td>Roseacer</td>\n",
       "      <td>42,50 mm</td>\n",
       "      <td>20</td>\n",
       "      <td>Yes</td>\n",
       "      <td>Natural</td>\n",
       "      <td>No</td>\n",
       "      <td>No</td>\n",
       "      <td>NaN</td>\n",
       "      <td>NaN</td>\n",
       "      <td>NaN</td>\n",
       "      <td>NaN</td>\n",
       "      <td>NaN</td>\n",
       "      <td>NaN</td>\n",
       "      <td>NaN</td>\n",
       "      <td>NaN</td>\n",
       "      <td>NaN</td>\n",
       "      <td>NaN</td>\n",
       "      <td>NaN</td>\n",
       "    </tr>\n",
       "  </tbody>\n",
       "</table>\n",
       "</div>"
      ],
      "text/plain": [
       "    Manufacturer              Model Price Product_availability guitar_rank  \\\n",
       "0         Fender    CD-60S Black WN   145             In stock          60   \n",
       "1  Harley Benton         D-120CE BK    75             In stock         177   \n",
       "2  Harley Benton       CLD-60SCE TB   111             In stock          61   \n",
       "3         Fender        CD-60 NA V3   111             In stock          29   \n",
       "4  Harley Benton  D-120CE NT Bundle    85             In stock          16   \n",
       "\n",
       "  Years_Warranty AVAILABLE SINCE ITEM NUMBER  SALES UNIT            TOP  \\\n",
       "0              3    January 2019      455910  1 piece(s)  Spruce, Solid   \n",
       "1              3    January 2003      157819  1 piece(s)         Spruce   \n",
       "2              3   December 2020      500960  1 piece(s)  Spruce, Solid   \n",
       "3              3  September 2006      190655  1 piece(s)         Spruce   \n",
       "4              3       June 2017      416052  1 piece(s)         Spruce   \n",
       "\n",
       "      BACK AND SIDES CUTAWAY FRETBOARD NUT WIDTH IN MM FRETS PICKUPS   COLOUR  \\\n",
       "0           Mahogany      No    Walnut        43,00 mm    20      No    Black   \n",
       "1  Sapelli, Mahogany     Yes  Roseacer        42,50 mm    20     Yes    Black   \n",
       "2           Mahogany     Yes  Roseacer        43,00 mm    20     Yes     Blue   \n",
       "3           Mahogany      No    Walnut        43,00 mm    20      No  Natural   \n",
       "4  Sapelli, Mahogany     Yes  Roseacer        42,50 mm    20     Yes  Natural   \n",
       "\n",
       "  CASE INCL. GIGBAG DESIGN POWER IN WATTS REVERB EFFECTS HEADPHONE CONNECTION  \\\n",
       "0   No           No    NaN            NaN    NaN     NaN                  NaN   \n",
       "1   No           No    NaN            NaN    NaN     NaN                  NaN   \n",
       "2   No           No    NaN            NaN    NaN     NaN                  NaN   \n",
       "3   No           No    NaN            NaN    NaN     NaN                  NaN   \n",
       "4   No           No    NaN            NaN    NaN     NaN                  NaN   \n",
       "\n",
       "  INCL. CASE / GIGBAG INCL. CABEL INCL. PICKS INCL. TUNER INCL. STRAP  \\\n",
       "0                 NaN         NaN         NaN         NaN         NaN   \n",
       "1                 NaN         NaN         NaN         NaN         NaN   \n",
       "2                 NaN         NaN         NaN         NaN         NaN   \n",
       "3                 NaN         NaN         NaN         NaN         NaN   \n",
       "4                 NaN         NaN         NaN         NaN         NaN   \n",
       "\n",
       "  INCL. EDUCATIONAL BOOK  \n",
       "0                    NaN  \n",
       "1                    NaN  \n",
       "2                    NaN  \n",
       "3                    NaN  \n",
       "4                    NaN  "
      ]
     },
     "execution_count": 276,
     "metadata": {},
     "output_type": "execute_result"
    }
   ],
   "source": [
    "df.head()"
   ]
  },
  {
   "cell_type": "code",
   "execution_count": 277,
   "id": "7eba67b2-8198-4356-9f76-a95704186429",
   "metadata": {},
   "outputs": [
    {
     "data": {
      "text/plain": [
       "Manufacturer               0\n",
       "Model                      0\n",
       "Price                      0\n",
       "Product_availability      19\n",
       "guitar_rank                0\n",
       "Years_Warranty             0\n",
       "AVAILABLE SINCE            0\n",
       "ITEM NUMBER                0\n",
       "SALES UNIT                 0\n",
       "TOP                        1\n",
       "BACK AND SIDES             1\n",
       "CUTAWAY                    1\n",
       "FRETBOARD                  1\n",
       "NUT WIDTH IN MM            1\n",
       "FRETS                      1\n",
       "PICKUPS                    2\n",
       "COLOUR                     0\n",
       "CASE                       1\n",
       "INCL. GIGBAG               1\n",
       "DESIGN                    99\n",
       "POWER IN WATTS            99\n",
       "REVERB                    99\n",
       "EFFECTS                   99\n",
       "HEADPHONE CONNECTION      99\n",
       "INCL. CASE / GIGBAG       99\n",
       "INCL. CABEL               99\n",
       "INCL. PICKS               99\n",
       "INCL. TUNER               99\n",
       "INCL. STRAP               99\n",
       "INCL. EDUCATIONAL BOOK    99\n",
       "dtype: int64"
      ]
     },
     "execution_count": 277,
     "metadata": {},
     "output_type": "execute_result"
    }
   ],
   "source": [
    "df.isnull().sum()"
   ]
  },
  {
   "cell_type": "code",
   "execution_count": 278,
   "id": "73e8bc66-2b0a-4cd8-bec6-cf4e2caeb3fc",
   "metadata": {
    "tags": []
   },
   "outputs": [
    {
     "data": {
      "text/html": [
       "<div>\n",
       "<style scoped>\n",
       "    .dataframe tbody tr th:only-of-type {\n",
       "        vertical-align: middle;\n",
       "    }\n",
       "\n",
       "    .dataframe tbody tr th {\n",
       "        vertical-align: top;\n",
       "    }\n",
       "\n",
       "    .dataframe thead th {\n",
       "        text-align: right;\n",
       "    }\n",
       "</style>\n",
       "<table border=\"1\" class=\"dataframe\">\n",
       "  <thead>\n",
       "    <tr style=\"text-align: right;\">\n",
       "      <th></th>\n",
       "      <th>Manufacturer</th>\n",
       "      <th>Model</th>\n",
       "      <th>Price</th>\n",
       "      <th>Product_availability</th>\n",
       "      <th>guitar_rank</th>\n",
       "      <th>Years_Warranty</th>\n",
       "      <th>AVAILABLE SINCE</th>\n",
       "      <th>ITEM NUMBER</th>\n",
       "      <th>SALES UNIT</th>\n",
       "      <th>TOP</th>\n",
       "      <th>BACK AND SIDES</th>\n",
       "      <th>CUTAWAY</th>\n",
       "      <th>FRETBOARD</th>\n",
       "      <th>NUT WIDTH IN MM</th>\n",
       "      <th>FRETS</th>\n",
       "      <th>PICKUPS</th>\n",
       "      <th>COLOUR</th>\n",
       "      <th>CASE</th>\n",
       "      <th>INCL. GIGBAG</th>\n",
       "      <th>DESIGN</th>\n",
       "      <th>POWER IN WATTS</th>\n",
       "      <th>REVERB</th>\n",
       "      <th>EFFECTS</th>\n",
       "      <th>HEADPHONE CONNECTION</th>\n",
       "      <th>INCL. CASE / GIGBAG</th>\n",
       "      <th>INCL. CABEL</th>\n",
       "      <th>INCL. PICKS</th>\n",
       "      <th>INCL. TUNER</th>\n",
       "      <th>INCL. STRAP</th>\n",
       "      <th>INCL. EDUCATIONAL BOOK</th>\n",
       "    </tr>\n",
       "  </thead>\n",
       "  <tbody>\n",
       "    <tr>\n",
       "      <th>76</th>\n",
       "      <td>Epiphone</td>\n",
       "      <td>Slash J-45 November Burst</td>\n",
       "      <td>694</td>\n",
       "      <td>None</td>\n",
       "      <td>58</td>\n",
       "      <td>3</td>\n",
       "      <td>December 2021</td>\n",
       "      <td>518609</td>\n",
       "      <td>1 piece(s)</td>\n",
       "      <td>Spruce, Solid</td>\n",
       "      <td>Mahogany</td>\n",
       "      <td>No</td>\n",
       "      <td>indian Laurel</td>\n",
       "      <td>43,00 mm</td>\n",
       "      <td>20</td>\n",
       "      <td>NaN</td>\n",
       "      <td>Sunburst</td>\n",
       "      <td>Yes</td>\n",
       "      <td>No</td>\n",
       "      <td>NaN</td>\n",
       "      <td>NaN</td>\n",
       "      <td>NaN</td>\n",
       "      <td>NaN</td>\n",
       "      <td>NaN</td>\n",
       "      <td>NaN</td>\n",
       "      <td>NaN</td>\n",
       "      <td>NaN</td>\n",
       "      <td>NaN</td>\n",
       "      <td>NaN</td>\n",
       "      <td>NaN</td>\n",
       "    </tr>\n",
       "    <tr>\n",
       "      <th>92</th>\n",
       "      <td>Harley Benton</td>\n",
       "      <td>HBD120CEBK Bundle</td>\n",
       "      <td>103</td>\n",
       "      <td>In stock</td>\n",
       "      <td>43</td>\n",
       "      <td>3</td>\n",
       "      <td>March 2007</td>\n",
       "      <td>111395</td>\n",
       "      <td>1 piece(s)</td>\n",
       "      <td>NaN</td>\n",
       "      <td>NaN</td>\n",
       "      <td>NaN</td>\n",
       "      <td>NaN</td>\n",
       "      <td>NaN</td>\n",
       "      <td>NaN</td>\n",
       "      <td>NaN</td>\n",
       "      <td>Black</td>\n",
       "      <td>NaN</td>\n",
       "      <td>NaN</td>\n",
       "      <td>Dreadnought</td>\n",
       "      <td>0 W</td>\n",
       "      <td>No</td>\n",
       "      <td>No</td>\n",
       "      <td>No</td>\n",
       "      <td>Yes</td>\n",
       "      <td>No</td>\n",
       "      <td>Yes</td>\n",
       "      <td>Yes</td>\n",
       "      <td>No</td>\n",
       "      <td>Yes</td>\n",
       "    </tr>\n",
       "  </tbody>\n",
       "</table>\n",
       "</div>"
      ],
      "text/plain": [
       "     Manufacturer                      Model Price Product_availability  \\\n",
       "76       Epiphone  Slash J-45 November Burst   694                 None   \n",
       "92  Harley Benton          HBD120CEBK Bundle   103             In stock   \n",
       "\n",
       "   guitar_rank Years_Warranty AVAILABLE SINCE ITEM NUMBER  SALES UNIT  \\\n",
       "76          58              3   December 2021      518609  1 piece(s)   \n",
       "92          43              3      March 2007      111395  1 piece(s)   \n",
       "\n",
       "              TOP BACK AND SIDES CUTAWAY      FRETBOARD NUT WIDTH IN MM FRETS  \\\n",
       "76  Spruce, Solid       Mahogany      No  indian Laurel        43,00 mm    20   \n",
       "92            NaN            NaN     NaN            NaN             NaN   NaN   \n",
       "\n",
       "   PICKUPS    COLOUR CASE INCL. GIGBAG       DESIGN POWER IN WATTS REVERB  \\\n",
       "76     NaN  Sunburst  Yes           No          NaN            NaN    NaN   \n",
       "92     NaN     Black  NaN          NaN  Dreadnought            0 W     No   \n",
       "\n",
       "   EFFECTS HEADPHONE CONNECTION INCL. CASE / GIGBAG INCL. CABEL INCL. PICKS  \\\n",
       "76     NaN                  NaN                 NaN         NaN         NaN   \n",
       "92      No                   No                 Yes          No         Yes   \n",
       "\n",
       "   INCL. TUNER INCL. STRAP INCL. EDUCATIONAL BOOK  \n",
       "76         NaN         NaN                    NaN  \n",
       "92         Yes          No                    Yes  "
      ]
     },
     "execution_count": 278,
     "metadata": {},
     "output_type": "execute_result"
    }
   ],
   "source": [
    "df[df['PICKUPS'].isnull()==True]"
   ]
  },
  {
   "cell_type": "code",
   "execution_count": 279,
   "id": "684be20d-253a-4fff-982c-bbaa09ea6d33",
   "metadata": {},
   "outputs": [],
   "source": [
    "df['PICKUPS'].fillna('No',inplace=True)"
   ]
  },
  {
   "cell_type": "code",
   "execution_count": 280,
   "id": "96fc7fa9-cc47-46af-91da-db18195ac984",
   "metadata": {},
   "outputs": [
    {
     "data": {
      "text/plain": [
       "Manufacturer               0\n",
       "Model                      0\n",
       "Price                      0\n",
       "Product_availability      19\n",
       "guitar_rank                0\n",
       "Years_Warranty             0\n",
       "AVAILABLE SINCE            0\n",
       "ITEM NUMBER                0\n",
       "SALES UNIT                 0\n",
       "TOP                        1\n",
       "BACK AND SIDES             1\n",
       "CUTAWAY                    1\n",
       "FRETBOARD                  1\n",
       "NUT WIDTH IN MM            1\n",
       "FRETS                      1\n",
       "PICKUPS                    0\n",
       "COLOUR                     0\n",
       "CASE                       1\n",
       "INCL. GIGBAG               1\n",
       "DESIGN                    99\n",
       "POWER IN WATTS            99\n",
       "REVERB                    99\n",
       "EFFECTS                   99\n",
       "HEADPHONE CONNECTION      99\n",
       "INCL. CASE / GIGBAG       99\n",
       "INCL. CABEL               99\n",
       "INCL. PICKS               99\n",
       "INCL. TUNER               99\n",
       "INCL. STRAP               99\n",
       "INCL. EDUCATIONAL BOOK    99\n",
       "dtype: int64"
      ]
     },
     "execution_count": 280,
     "metadata": {},
     "output_type": "execute_result"
    }
   ],
   "source": [
    "df.isnull().sum()"
   ]
  },
  {
   "cell_type": "code",
   "execution_count": 281,
   "id": "3a9f1c6c-6bde-4a20-a657-1ae8fc916ca7",
   "metadata": {
    "tags": []
   },
   "outputs": [
    {
     "data": {
      "text/html": [
       "<div>\n",
       "<style scoped>\n",
       "    .dataframe tbody tr th:only-of-type {\n",
       "        vertical-align: middle;\n",
       "    }\n",
       "\n",
       "    .dataframe tbody tr th {\n",
       "        vertical-align: top;\n",
       "    }\n",
       "\n",
       "    .dataframe thead th {\n",
       "        text-align: right;\n",
       "    }\n",
       "</style>\n",
       "<table border=\"1\" class=\"dataframe\">\n",
       "  <thead>\n",
       "    <tr style=\"text-align: right;\">\n",
       "      <th></th>\n",
       "      <th>Manufacturer</th>\n",
       "      <th>Model</th>\n",
       "      <th>Price</th>\n",
       "      <th>Product_availability</th>\n",
       "      <th>guitar_rank</th>\n",
       "      <th>Years_Warranty</th>\n",
       "      <th>AVAILABLE SINCE</th>\n",
       "      <th>ITEM NUMBER</th>\n",
       "      <th>SALES UNIT</th>\n",
       "      <th>TOP</th>\n",
       "      <th>BACK AND SIDES</th>\n",
       "      <th>CUTAWAY</th>\n",
       "      <th>FRETBOARD</th>\n",
       "      <th>NUT WIDTH IN MM</th>\n",
       "      <th>FRETS</th>\n",
       "      <th>PICKUPS</th>\n",
       "      <th>COLOUR</th>\n",
       "      <th>CASE</th>\n",
       "      <th>INCL. GIGBAG</th>\n",
       "      <th>DESIGN</th>\n",
       "      <th>POWER IN WATTS</th>\n",
       "      <th>REVERB</th>\n",
       "      <th>EFFECTS</th>\n",
       "      <th>HEADPHONE CONNECTION</th>\n",
       "      <th>INCL. CASE / GIGBAG</th>\n",
       "      <th>INCL. CABEL</th>\n",
       "      <th>INCL. PICKS</th>\n",
       "      <th>INCL. TUNER</th>\n",
       "      <th>INCL. STRAP</th>\n",
       "      <th>INCL. EDUCATIONAL BOOK</th>\n",
       "    </tr>\n",
       "  </thead>\n",
       "  <tbody>\n",
       "    <tr>\n",
       "      <th>92</th>\n",
       "      <td>Harley Benton</td>\n",
       "      <td>HBD120CEBK Bundle</td>\n",
       "      <td>103</td>\n",
       "      <td>In stock</td>\n",
       "      <td>43</td>\n",
       "      <td>3</td>\n",
       "      <td>March 2007</td>\n",
       "      <td>111395</td>\n",
       "      <td>1 piece(s)</td>\n",
       "      <td>NaN</td>\n",
       "      <td>NaN</td>\n",
       "      <td>NaN</td>\n",
       "      <td>NaN</td>\n",
       "      <td>NaN</td>\n",
       "      <td>NaN</td>\n",
       "      <td>No</td>\n",
       "      <td>Black</td>\n",
       "      <td>NaN</td>\n",
       "      <td>NaN</td>\n",
       "      <td>Dreadnought</td>\n",
       "      <td>0 W</td>\n",
       "      <td>No</td>\n",
       "      <td>No</td>\n",
       "      <td>No</td>\n",
       "      <td>Yes</td>\n",
       "      <td>No</td>\n",
       "      <td>Yes</td>\n",
       "      <td>Yes</td>\n",
       "      <td>No</td>\n",
       "      <td>Yes</td>\n",
       "    </tr>\n",
       "  </tbody>\n",
       "</table>\n",
       "</div>"
      ],
      "text/plain": [
       "     Manufacturer              Model Price Product_availability guitar_rank  \\\n",
       "92  Harley Benton  HBD120CEBK Bundle   103             In stock          43   \n",
       "\n",
       "   Years_Warranty AVAILABLE SINCE ITEM NUMBER  SALES UNIT  TOP BACK AND SIDES  \\\n",
       "92              3      March 2007      111395  1 piece(s)  NaN            NaN   \n",
       "\n",
       "   CUTAWAY FRETBOARD NUT WIDTH IN MM FRETS PICKUPS COLOUR CASE INCL. GIGBAG  \\\n",
       "92     NaN       NaN             NaN   NaN      No  Black  NaN          NaN   \n",
       "\n",
       "         DESIGN POWER IN WATTS REVERB EFFECTS HEADPHONE CONNECTION  \\\n",
       "92  Dreadnought            0 W     No      No                   No   \n",
       "\n",
       "   INCL. CASE / GIGBAG INCL. CABEL INCL. PICKS INCL. TUNER INCL. STRAP  \\\n",
       "92                 Yes          No         Yes         Yes          No   \n",
       "\n",
       "   INCL. EDUCATIONAL BOOK  \n",
       "92                    Yes  "
      ]
     },
     "execution_count": 281,
     "metadata": {},
     "output_type": "execute_result"
    }
   ],
   "source": [
    "df[df['FRETBOARD'].isnull()==True]"
   ]
  },
  {
   "cell_type": "code",
   "execution_count": 282,
   "id": "46ebbf53-beb7-4c7a-a911-e48be4cf4d8d",
   "metadata": {},
   "outputs": [],
   "source": [
    "df.dropna(axis=0, subset= 'FRETBOARD', inplace=True)"
   ]
  },
  {
   "cell_type": "code",
   "execution_count": 283,
   "id": "f55ffd6f-6860-46ed-be4d-aea48a07c095",
   "metadata": {},
   "outputs": [
    {
     "data": {
      "text/plain": [
       "Manufacturer               0\n",
       "Model                      0\n",
       "Price                      0\n",
       "Product_availability      19\n",
       "guitar_rank                0\n",
       "Years_Warranty             0\n",
       "AVAILABLE SINCE            0\n",
       "ITEM NUMBER                0\n",
       "SALES UNIT                 0\n",
       "TOP                        0\n",
       "BACK AND SIDES             0\n",
       "CUTAWAY                    0\n",
       "FRETBOARD                  0\n",
       "NUT WIDTH IN MM            0\n",
       "FRETS                      0\n",
       "PICKUPS                    0\n",
       "COLOUR                     0\n",
       "CASE                       0\n",
       "INCL. GIGBAG               0\n",
       "DESIGN                    99\n",
       "POWER IN WATTS            99\n",
       "REVERB                    99\n",
       "EFFECTS                   99\n",
       "HEADPHONE CONNECTION      99\n",
       "INCL. CASE / GIGBAG       99\n",
       "INCL. CABEL               99\n",
       "INCL. PICKS               99\n",
       "INCL. TUNER               99\n",
       "INCL. STRAP               99\n",
       "INCL. EDUCATIONAL BOOK    99\n",
       "dtype: int64"
      ]
     },
     "execution_count": 283,
     "metadata": {},
     "output_type": "execute_result"
    }
   ],
   "source": [
    "df.isnull().sum()"
   ]
  },
  {
   "cell_type": "code",
   "execution_count": 284,
   "id": "9916a93c-1b98-485d-82c9-75f1d531363c",
   "metadata": {},
   "outputs": [],
   "source": [
    "column_list=['SALES UNIT','DESIGN','POWER IN WATTS','REVERB','EFFECTS','HEADPHONE CONNECTION','INCL. CASE / GIGBAG','INCL. CABEL','INCL. PICKS','INCL. TUNER','INCL. STRAP','INCL. EDUCATIONAL BOOK']\n",
    "\n",
    "for i in column_list:\n",
    "    if i in list(df.columns):\n",
    "        df.drop(i, axis=1, inplace=True)"
   ]
  },
  {
   "cell_type": "code",
   "execution_count": 285,
   "id": "fbd9316c-91a0-45be-8221-7a36e1f102fd",
   "metadata": {},
   "outputs": [],
   "source": [
    "for column in list(df.columns):\n",
    "    df.rename(columns = {column : column.upper()} , inplace = True)"
   ]
  },
  {
   "cell_type": "code",
   "execution_count": 286,
   "id": "fbbe3266-10de-4aba-8598-2c039b4edfa4",
   "metadata": {},
   "outputs": [],
   "source": [
    "df['PRODUCT_AVAILABILITY'].fillna(value='Unavailable', inplace=True)"
   ]
  },
  {
   "cell_type": "code",
   "execution_count": 287,
   "id": "841bee40-1ae6-4f70-ad31-42da4d0ccb1b",
   "metadata": {},
   "outputs": [
    {
     "data": {
      "text/plain": [
       "MANUFACTURER            0\n",
       "MODEL                   0\n",
       "PRICE                   0\n",
       "PRODUCT_AVAILABILITY    0\n",
       "GUITAR_RANK             0\n",
       "YEARS_WARRANTY          0\n",
       "AVAILABLE SINCE         0\n",
       "ITEM NUMBER             0\n",
       "TOP                     0\n",
       "BACK AND SIDES          0\n",
       "CUTAWAY                 0\n",
       "FRETBOARD               0\n",
       "NUT WIDTH IN MM         0\n",
       "FRETS                   0\n",
       "PICKUPS                 0\n",
       "COLOUR                  0\n",
       "CASE                    0\n",
       "INCL. GIGBAG            0\n",
       "dtype: int64"
      ]
     },
     "execution_count": 287,
     "metadata": {},
     "output_type": "execute_result"
    }
   ],
   "source": [
    "df.isnull().sum()"
   ]
  },
  {
   "cell_type": "code",
   "execution_count": 288,
   "id": "35f945ff-5354-4ed9-97d4-33f92a1e8a87",
   "metadata": {
    "tags": []
   },
   "outputs": [
    {
     "data": {
      "text/plain": [
       "array(['3'], dtype=object)"
      ]
     },
     "execution_count": 288,
     "metadata": {},
     "output_type": "execute_result"
    }
   ],
   "source": [
    "df['YEARS_WARRANTY'].unique()"
   ]
  },
  {
   "cell_type": "code",
   "execution_count": 289,
   "id": "885934ef-1c8c-42d8-8655-0f5d123f95f0",
   "metadata": {
    "tags": []
   },
   "outputs": [
    {
     "data": {
      "text/plain": [
       "array(['Fender', 'Harley Benton', 'Epiphone', 'Takamine', 'DAngelico',\n",
       "       'Gibson', 'Squier', 'Taylor', 'Guild', 'Ibanez', 'Seagull', 'Cort',\n",
       "       'Yamaha', 'Recording King'], dtype=object)"
      ]
     },
     "execution_count": 289,
     "metadata": {},
     "output_type": "execute_result"
    }
   ],
   "source": [
    "df['MANUFACTURER'].unique()"
   ]
  },
  {
   "cell_type": "code",
   "execution_count": 290,
   "id": "469a8dd8-8bb0-45b5-b011-b1fe2f7b9d71",
   "metadata": {
    "tags": []
   },
   "outputs": [
    {
     "data": {
      "text/plain": [
       "array(['Spruce, Solid', 'Spruce', 'Mahogany', 'Cedar', 'Mahogany, Solid',\n",
       "       'Cedar, Solid', 'Ebony', 'Coa solid', 'Sitka Spruce solid'],\n",
       "      dtype=object)"
      ]
     },
     "execution_count": 290,
     "metadata": {},
     "output_type": "execute_result"
    }
   ],
   "source": [
    "df['TOP'].unique()"
   ]
  },
  {
   "cell_type": "code",
   "execution_count": 291,
   "id": "06babb89-4ea1-458a-a833-82655bda353c",
   "metadata": {
    "tags": []
   },
   "outputs": [
    {
     "data": {
      "text/plain": [
       "array(['Mahogany', 'Sapelli, Mahogany', 'Maple', 'Walnut', 'Koa, Solid',\n",
       "       'Solid Mahogany', 'Walnut, Solid', 'Nato', 'Ziricote', 'Rosewood',\n",
       "       'Sapele', 'Cherry', 'Solid Rosewood', 'Ovangkol',\n",
       "       'Ovangkol, Solid', 'Maple, Solid', 'Okume', 'Basswood', 'Ebony'],\n",
       "      dtype=object)"
      ]
     },
     "execution_count": 291,
     "metadata": {},
     "output_type": "execute_result"
    }
   ],
   "source": [
    "df['BACK AND SIDES'].unique()"
   ]
  },
  {
   "cell_type": "code",
   "execution_count": 292,
   "id": "65aed572-7bc3-425f-836d-065154c48bee",
   "metadata": {
    "tags": []
   },
   "outputs": [
    {
     "data": {
      "text/plain": [
       "array(['Walnut', 'Roseacer', 'Pau Ferro', 'Rosewood', 'Laurel',\n",
       "       'Ovangkol', 'Ebony', 'Merbau', 'Maple', 'indian Laurel', 'Nandu',\n",
       "       'Blackwood', 'Ebonol'], dtype=object)"
      ]
     },
     "execution_count": 292,
     "metadata": {},
     "output_type": "execute_result"
    }
   ],
   "source": [
    "df['FRETBOARD'].unique()"
   ]
  },
  {
   "cell_type": "code",
   "execution_count": 293,
   "id": "6c2fd5ae-99fe-4459-8638-344155e036ab",
   "metadata": {},
   "outputs": [
    {
     "data": {
      "text/plain": [
       "array(['20', '643', '21'], dtype=object)"
      ]
     },
     "execution_count": 293,
     "metadata": {},
     "output_type": "execute_result"
    }
   ],
   "source": [
    "df['FRETS'].unique()"
   ]
  },
  {
   "cell_type": "code",
   "execution_count": 294,
   "id": "823bee3a-a2c9-4b8d-9fc8-32104f10d74d",
   "metadata": {},
   "outputs": [],
   "source": [
    "df['FRETS']=df['FRETS'].astype('int')"
   ]
  },
  {
   "cell_type": "code",
   "execution_count": 295,
   "id": "f8e6605c-6dec-418f-a3e3-1f82b7952355",
   "metadata": {},
   "outputs": [],
   "source": [
    "for index,value in enumerate(df['FRETS']):\n",
    "    if value >= 24 :\n",
    "        df.drop(index, axis=0, inplace=True)"
   ]
  },
  {
   "cell_type": "code",
   "execution_count": 296,
   "id": "03bd9861-4b39-4c25-b476-382a38dfb9ea",
   "metadata": {
    "tags": []
   },
   "outputs": [
    {
     "data": {
      "text/plain": [
       "array(['Black', 'Blue', 'Natural', 'Sunburst', 'Natural Mahogany',\n",
       "       'Sunburst, High Gloss', 'Natural, High Gloss'], dtype=object)"
      ]
     },
     "execution_count": 296,
     "metadata": {},
     "output_type": "execute_result"
    }
   ],
   "source": [
    "df['COLOUR'].unique()"
   ]
  },
  {
   "cell_type": "code",
   "execution_count": 297,
   "id": "00884bac-19a7-44b4-a6db-7f3fc85817e0",
   "metadata": {},
   "outputs": [
    {
     "name": "stdout",
     "output_type": "stream",
     "text": [
      "<class 'pandas.core.frame.DataFrame'>\n",
      "Int64Index: 98 entries, 0 to 99\n",
      "Data columns (total 18 columns):\n",
      " #   Column                Non-Null Count  Dtype \n",
      "---  ------                --------------  ----- \n",
      " 0   MANUFACTURER          98 non-null     object\n",
      " 1   MODEL                 98 non-null     object\n",
      " 2   PRICE                 98 non-null     object\n",
      " 3   PRODUCT_AVAILABILITY  98 non-null     object\n",
      " 4   GUITAR_RANK           98 non-null     object\n",
      " 5   YEARS_WARRANTY        98 non-null     object\n",
      " 6   AVAILABLE SINCE       98 non-null     object\n",
      " 7   ITEM NUMBER           98 non-null     object\n",
      " 8   TOP                   98 non-null     object\n",
      " 9   BACK AND SIDES        98 non-null     object\n",
      " 10  CUTAWAY               98 non-null     object\n",
      " 11  FRETBOARD             98 non-null     object\n",
      " 12  NUT WIDTH IN MM       98 non-null     object\n",
      " 13  FRETS                 98 non-null     int32 \n",
      " 14  PICKUPS               98 non-null     object\n",
      " 15  COLOUR                98 non-null     object\n",
      " 16  CASE                  98 non-null     object\n",
      " 17  INCL. GIGBAG          98 non-null     object\n",
      "dtypes: int32(1), object(17)\n",
      "memory usage: 14.2+ KB\n"
     ]
    }
   ],
   "source": [
    "df.info()"
   ]
  },
  {
   "cell_type": "code",
   "execution_count": 298,
   "id": "6497e11e-3196-4883-b4d8-f2eda12a22c7",
   "metadata": {
    "tags": []
   },
   "outputs": [],
   "source": [
    "for index,value in enumerate(df['PRICE']):\n",
    "        if ',' in value:\n",
    "             df['PRICE'].replace(value, value.replace(',',''), inplace= True)"
   ]
  },
  {
   "cell_type": "code",
   "execution_count": 299,
   "id": "11710d61-142c-4ec5-9f85-2122757b6031",
   "metadata": {},
   "outputs": [
    {
     "data": {
      "text/plain": [
       "0     145.0\n",
       "1      75.0\n",
       "2     111.0\n",
       "3     111.0\n",
       "4      85.0\n",
       "      ...  \n",
       "95    655.0\n",
       "96    239.0\n",
       "97    329.0\n",
       "98    319.0\n",
       "99    599.0\n",
       "Name: PRICE, Length: 98, dtype: float64"
      ]
     },
     "execution_count": 299,
     "metadata": {},
     "output_type": "execute_result"
    }
   ],
   "source": [
    "df['PRICE'].astype('float')"
   ]
  },
  {
   "cell_type": "code",
   "execution_count": 300,
   "id": "3362c288-5ae6-4ed6-bf4f-be56af0d33b4",
   "metadata": {},
   "outputs": [],
   "source": [
    "df['GUITAR_RANK']=df['GUITAR_RANK'].astype('int')"
   ]
  },
  {
   "cell_type": "code",
   "execution_count": 301,
   "id": "0a6c3d3f-49de-42ba-a7f5-ba72c2f3aa55",
   "metadata": {},
   "outputs": [],
   "source": [
    "df['YEARS_WARRANTY']=df['YEARS_WARRANTY'].astype('int')"
   ]
  },
  {
   "cell_type": "code",
   "execution_count": 302,
   "id": "cf525998-c685-4df8-b8ef-7170441927f3",
   "metadata": {},
   "outputs": [],
   "source": [
    "df['ITEM NUMBER']=df['ITEM NUMBER'].astype('int')"
   ]
  },
  {
   "cell_type": "code",
   "execution_count": 303,
   "id": "0ba4a850-83b0-432d-a029-1fb922cdfb62",
   "metadata": {},
   "outputs": [
    {
     "data": {
      "text/plain": [
       "'43,00 mm'"
      ]
     },
     "execution_count": 303,
     "metadata": {},
     "output_type": "execute_result"
    }
   ],
   "source": [
    "df['NUT WIDTH IN MM'][0]"
   ]
  },
  {
   "cell_type": "code",
   "execution_count": 304,
   "id": "ef1636d5-4ddb-4d49-8aec-81dba14e940c",
   "metadata": {},
   "outputs": [],
   "source": [
    "df['AVAILABLE SINCE']=pd.to_datetime(df['AVAILABLE SINCE'])"
   ]
  }
 ],
 "metadata": {
  "kernelspec": {
   "display_name": "Python 3 (ipykernel)",
   "language": "python",
   "name": "python3"
  },
  "language_info": {
   "codemirror_mode": {
    "name": "ipython",
    "version": 3
   },
   "file_extension": ".py",
   "mimetype": "text/x-python",
   "name": "python",
   "nbconvert_exporter": "python",
   "pygments_lexer": "ipython3",
   "version": "3.9.13"
  }
 },
 "nbformat": 4,
 "nbformat_minor": 5
}
